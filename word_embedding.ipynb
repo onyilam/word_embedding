{
 "cells": [
  {
   "cell_type": "code",
   "execution_count": 1,
   "metadata": {
    "collapsed": false
   },
   "outputs": [],
   "source": [
    "from nltk.corpus import brown\n",
    "from nltk.corpus import stopwords\n",
    "import string\n",
    "from collections import Counter\n",
    "import operator\n",
    "import numpy as np\n",
    "from math import log10\n",
    "from sklearn import decomposition"
   ]
  },
  {
   "cell_type": "code",
   "execution_count": 2,
   "metadata": {
    "collapsed": true
   },
   "outputs": [],
   "source": [
    "clean_words = [word.lower() for word in brown.words()]"
   ]
  },
  {
   "cell_type": "code",
   "execution_count": 3,
   "metadata": {
    "collapsed": false
   },
   "outputs": [],
   "source": [
    "clean_words = [''.join(c for c in s if c not in string.punctuation) for s in clean_words]"
   ]
  },
  {
   "cell_type": "code",
   "execution_count": 4,
   "metadata": {
    "collapsed": true
   },
   "outputs": [],
   "source": [
    "clean_words = [s for s in clean_words if s]"
   ]
  },
  {
   "cell_type": "code",
   "execution_count": 5,
   "metadata": {
    "collapsed": true
   },
   "outputs": [],
   "source": [
    "clean_words = [s for s in clean_words if len(s) > 1]\n"
   ]
  },
  {
   "cell_type": "code",
   "execution_count": 6,
   "metadata": {
    "collapsed": false
   },
   "outputs": [],
   "source": [
    "filtered_words = [word for word in clean_words if word not in stopwords.words('english')]"
   ]
  },
  {
   "cell_type": "code",
   "execution_count": 8,
   "metadata": {
    "collapsed": false
   },
   "outputs": [],
   "source": [
    "clean_count = Counter(filtered_words)\n",
    "clean_sort = sorted(clean_count, key=clean_count.get, reverse=True)\n"
   ]
  },
  {
   "cell_type": "code",
   "execution_count": 9,
   "metadata": {
    "collapsed": false
   },
   "outputs": [],
   "source": [
    "top5000=clean_sort[:5000]\n",
    "top1000=clean_sort[:1000]"
   ]
  },
  {
   "cell_type": "code",
   "execution_count": 188,
   "metadata": {
    "collapsed": false
   },
   "outputs": [],
   "source": [
    "\n",
    "for index, word in enumerate(filtered_words):\n",
    "    for value in top5000:\n",
    "        if value == word:\n",
    "            for phrase in top1000:\n",
    "                n[value, phrase] = filtered_words[index-window: index+window].count(phrase)\n",
    "                sum_n += n[value, phrase]\n",
    "        else:\n",
    "            pass\n",
    "    "
   ]
  },
  {
   "cell_type": "code",
   "execution_count": 29,
   "metadata": {
    "collapsed": false
   },
   "outputs": [],
   "source": [
    "window = 2\n",
    "n ={}\n",
    "sum_n = 0\n",
    "for value in top5000:\n",
    "    indexes = [i for i,x in enumerate(filtered_words) if x ==  value]\n",
    "    for phrase in top1000:\n",
    "        n[value, phrase] = 0\n",
    "        for index in indexes:\n",
    "            index_count = filtered_words[index-window: index+window+1].count(phrase)\n",
    "            n[value, phrase] += index_count\n",
    "        sum_n += n[value, phrase]"
   ]
  },
  {
   "cell_type": "code",
   "execution_count": 31,
   "metadata": {
    "collapsed": false
   },
   "outputs": [
    {
     "data": {
      "text/plain": [
       "115187"
      ]
     },
     "execution_count": 31,
     "metadata": {},
     "output_type": "execute_result"
    }
   ],
   "source": [
    "temp={k:v for (k,v) in n.items() if v >1 }\n",
    "len(temp)"
   ]
  },
  {
   "cell_type": "markdown",
   "metadata": {},
   "source": [
    "###Construct P(W), P(C|W) and P(C)"
   ]
  },
  {
   "cell_type": "markdown",
   "metadata": {},
   "source": [
    "P(C|W) = p(c&W)/p(W)"
   ]
  },
  {
   "cell_type": "code",
   "execution_count": 34,
   "metadata": {
    "collapsed": false
   },
   "outputs": [],
   "source": [
    "clean_counted = dict(clean_count)"
   ]
  },
  {
   "cell_type": "code",
   "execution_count": 35,
   "metadata": {
    "collapsed": false
   },
   "outputs": [],
   "source": [
    "sum5000 = 0\n",
    "for word in top5000:\n",
    "     sum5000 += clean_counted[word]"
   ]
  },
  {
   "cell_type": "code",
   "execution_count": 36,
   "metadata": {
    "collapsed": true
   },
   "outputs": [],
   "source": [
    "sum1000 = 0\n",
    "for word in top1000:\n",
    "     sum1000 += clean_counted[word]"
   ]
  },
  {
   "cell_type": "code",
   "execution_count": 37,
   "metadata": {
    "collapsed": false
   },
   "outputs": [],
   "source": [
    "p_w = {}\n",
    "p_c = {}\n",
    "p_cw = {}\n",
    "p_n = {}"
   ]
  },
  {
   "cell_type": "code",
   "execution_count": 38,
   "metadata": {
    "collapsed": false
   },
   "outputs": [],
   "source": [
    "for word in top5000:\n",
    "    p_w[word] = clean_counted[word]/sum5000\n",
    "    for phrase in top1000: \n",
    "        p_n[word, phrase] = n[word, phrase]/sum_n\n",
    "        p_cw[word, phrase] = p_n[word, phrase]/p_w[word]"
   ]
  },
  {
   "cell_type": "code",
   "execution_count": 39,
   "metadata": {
    "collapsed": false
   },
   "outputs": [],
   "source": [
    "for word in top1000:\n",
    "    p_c[word] = clean_counted[word]/sum1000"
   ]
  },
  {
   "cell_type": "markdown",
   "metadata": {},
   "source": [
    "###Represent each vocabulary item w by a |C|-dimensional vector Φ(w)"
   ]
  },
  {
   "cell_type": "code",
   "execution_count": 40,
   "metadata": {
    "collapsed": false
   },
   "outputs": [],
   "source": [
    "phi ={}\n",
    "for word in top5000:\n",
    "    for phrase in top1000: \n",
    "        if p_cw[word,phrase] > 0:\n",
    "            phi[word, phrase] = max(0, log10(p_cw[word,phrase]/p_c[phrase]))\n",
    "        else:\n",
    "            phi[word, phrase] = 0"
   ]
  },
  {
   "cell_type": "markdown",
   "metadata": {},
   "source": [
    "### Generate Matrix"
   ]
  },
  {
   "cell_type": "code",
   "execution_count": 41,
   "metadata": {
    "collapsed": false
   },
   "outputs": [],
   "source": [
    "matrix = [[0 for x in range(len(top1000))] for y in range(len(top5000))] \n",
    "for i in range(len(top5000)):\n",
    "    for j in range(len(top1000)):\n",
    "        word = top5000[i]\n",
    "        phrase =  top1000[j]\n",
    "        matrix[i][j] = phi[(word,phrase)]\n"
   ]
  },
  {
   "cell_type": "code",
   "execution_count": 42,
   "metadata": {
    "collapsed": false
   },
   "outputs": [],
   "source": [
    "matrix2 = np.asarray(matrix)"
   ]
  },
  {
   "cell_type": "code",
   "execution_count": 43,
   "metadata": {
    "collapsed": false
   },
   "outputs": [],
   "source": [
    "pca = decomposition.PCA(n_components=100)"
   ]
  },
  {
   "cell_type": "code",
   "execution_count": 44,
   "metadata": {
    "collapsed": false
   },
   "outputs": [
    {
     "data": {
      "text/plain": [
       "PCA(copy=True, n_components=100, whiten=False)"
      ]
     },
     "execution_count": 44,
     "metadata": {},
     "output_type": "execute_result"
    }
   ],
   "source": [
    "pca.fit(matrix2)"
   ]
  },
  {
   "cell_type": "code",
   "execution_count": 45,
   "metadata": {
    "collapsed": true
   },
   "outputs": [],
   "source": [
    "X = pca.transform(matrix2)"
   ]
  },
  {
   "cell_type": "code",
   "execution_count": 46,
   "metadata": {
    "collapsed": false
   },
   "outputs": [
    {
     "data": {
      "text/plain": [
       "(5000, 100)"
      ]
     },
     "execution_count": 46,
     "metadata": {},
     "output_type": "execute_result"
    }
   ],
   "source": [
    "X.shape"
   ]
  },
  {
   "cell_type": "code",
   "execution_count": 47,
   "metadata": {
    "collapsed": false
   },
   "outputs": [
    {
     "name": "stdout",
     "output_type": "stream",
     "text": [
      "[ 0.01499068  0.0095628   0.00738975  0.00632543  0.005073    0.0046134\n",
      "  0.00358666  0.00349249  0.00299991  0.00298792  0.00288307  0.0027975\n",
      "  0.002689    0.00265088  0.00260458  0.00253232  0.00251749  0.00243131\n",
      "  0.00236754  0.00234594  0.00233501  0.00230606  0.00226343  0.00224178\n",
      "  0.00220825  0.00218363  0.00217137  0.00215188  0.00213567  0.00213335\n",
      "  0.00210333  0.00209003  0.00208253  0.00207453  0.00206783  0.00205622\n",
      "  0.00205256  0.002046    0.00202746  0.00202311  0.00201184  0.00200502\n",
      "  0.00200244  0.00198783  0.00197959  0.00197335  0.00196593  0.0019573\n",
      "  0.00194911  0.00194604  0.00193238  0.0019279   0.00192595  0.00191952\n",
      "  0.00191696  0.00190576  0.00190449  0.00189918  0.00189692  0.00188564\n",
      "  0.00187846  0.00187339  0.00186642  0.00186006  0.00185432  0.001848\n",
      "  0.00184494  0.00184157  0.00183497  0.00182997  0.00182679  0.00182063\n",
      "  0.00181504  0.00180358  0.00179965  0.00179548  0.00178812  0.00178083\n",
      "  0.00177897  0.00177625  0.00177337  0.00176617  0.00176232  0.00175901\n",
      "  0.00175704  0.00175376  0.0017481   0.00174225  0.00173992  0.00173527\n",
      "  0.00172743  0.00172499  0.00172456  0.00171853  0.00171267  0.00170692\n",
      "  0.00170576  0.00170287  0.00169755  0.0016941 ]\n"
     ]
    }
   ],
   "source": [
    "print(pca.explained_variance_ratio_) "
   ]
  },
  {
   "cell_type": "code",
   "execution_count": 48,
   "metadata": {
    "collapsed": false
   },
   "outputs": [
    {
     "name": "stdout",
     "output_type": "stream",
     "text": [
      "[ 0.01499068  0.02455349  0.03194323  0.03826867  0.04334167  0.04795506\n",
      "  0.05154172  0.05503421  0.05803412  0.06102203  0.06390511  0.06670261\n",
      "  0.06939161  0.07204248  0.07464706  0.07717938  0.07969687  0.08212817\n",
      "  0.08449572  0.08684165  0.08917667  0.09148273  0.09374615  0.09598793\n",
      "  0.09819618  0.10037981  0.10255118  0.10470305  0.10683873  0.10897207\n",
      "  0.11107541  0.11316544  0.11524796  0.11732249  0.11939033  0.12144655\n",
      "  0.12349911  0.12554511  0.12757257  0.12959568  0.13160752  0.13361255\n",
      "  0.13561498  0.13760282  0.13958241  0.14155576  0.14352169  0.14547899\n",
      "  0.14742809  0.14937414  0.15130652  0.15323443  0.15516038  0.1570799\n",
      "  0.15899685  0.16090261  0.1628071   0.16470628  0.16660319  0.16848883\n",
      "  0.17036729  0.17224068  0.17410711  0.17596717  0.17782149  0.17966948\n",
      "  0.18151442  0.18335599  0.18519096  0.18702092  0.18884772  0.19066835\n",
      "  0.19248339  0.19428697  0.19608662  0.19788209  0.19967021  0.20145104\n",
      "  0.20323001  0.20500626  0.20677964  0.2085458   0.21030812  0.21206713\n",
      "  0.21382417  0.21557793  0.21732603  0.21906828  0.2208082   0.22254347\n",
      "  0.2242709   0.22599588  0.22772045  0.22943897  0.23115164  0.23285857\n",
      "  0.23456433  0.2362672   0.23796475  0.23965885]\n"
     ]
    }
   ],
   "source": [
    "print(pca.explained_variance_ratio_.cumsum()) "
   ]
  },
  {
   "cell_type": "markdown",
   "metadata": {},
   "source": [
    "###Clustering"
   ]
  },
  {
   "cell_type": "code",
   "execution_count": 49,
   "metadata": {
    "collapsed": false
   },
   "outputs": [],
   "source": [
    "from sklearn.cluster import KMeans"
   ]
  },
  {
   "cell_type": "code",
   "execution_count": 50,
   "metadata": {
    "collapsed": true
   },
   "outputs": [],
   "source": [
    "from scipy.cluster.vq import kmeans2"
   ]
  },
  {
   "cell_type": "code",
   "execution_count": 51,
   "metadata": {
    "collapsed": true
   },
   "outputs": [],
   "source": [
    "#random_State = 0 k means pluis plus \n",
    "kmeans = KMeans( n_clusters = 100 ).fit(matrix2)"
   ]
  },
  {
   "cell_type": "code",
   "execution_count": 52,
   "metadata": {
    "collapsed": false
   },
   "outputs": [
    {
     "name": "stderr",
     "output_type": "stream",
     "text": [
      "/usr/local/lib/python3.4/site-packages/scipy/cluster/vq.py:648: UserWarning: One of the clusters is empty. Re-run kmean with a different initialization.\n",
      "  warnings.warn(\"One of the clusters is empty. \"\n"
     ]
    }
   ],
   "source": [
    "#random_State = 0 k means pluis plus\n",
    "centroids, idx = kmeans2(matrix2, k = 100,  minit='random')"
   ]
  },
  {
   "cell_type": "code",
   "execution_count": 53,
   "metadata": {
    "collapsed": true
   },
   "outputs": [],
   "source": [
    "top5000words = np.array(top5000)"
   ]
  },
  {
   "cell_type": "code",
   "execution_count": 54,
   "metadata": {
    "collapsed": false
   },
   "outputs": [
    {
     "name": "stdout",
     "output_type": "stream",
     "text": [
      "broad, cheek, fantastic, illness, imagination, pencil, sides\n",
      "adjustments, advertising, area, available, basis, benefit, commercial, construction, cooling, cost, designed, desired, determining, developments, disposal, economy, efficient, electronic, employment, equipment, evaluation, existing, facilities, farm, gin, hunting, improved, improvements, longrange, machine, machinery, marketing, materials, methods, observed, operation, overall, parttime, plant, potential, processes, processing, production, products, protect, provide, providing, purposes, radio, recreation, reduce, rural, sba, shelter, site, standard, stations, structural, suitable, supplies, techniques, testing, urban, use, utility, vehicles\n",
      "absorbed, arts, attacked, automatically, begins, cholesterol, christians, conductor, contacts, covers, hypothalamus, increasingly, listened, memorial, municipal, obliged, post, prepare, recommended, salary, suspected, universal, wealth\n",
      "absolute, acting, allow, apparatus, applied, applies, apply, applying, arbitrary, aspects, assumptions, biological, brings, bundle, capabilities, cells, centers, chemical, closely, coating, combined, components, computed, concentration, consistent, continuous, conventional, corresponding, crystal, curve, cutting, define, defined, demonstrated, destroy, diffusion, dimensions, drying, dynamic, economical, effects, efficiency, electrical, electron, element, eliminate, employed, environment, essentially, examination, exercises, explicit, extension, external, fallout, fig, fixed, formula, frequencies, functions, hydrogen, ie, image, index, inevitably, inherent, input, integration, intelligence, intermediate, interpreted, isolated, legislators, limitations, limits, linear, lo, load, location, magnetic, magnitude, maintaining, masses, mathematics, meets, mental, morality, namely, nuclear, numerical, occurrence, order, organic, ownership, particle, phases, physiological, platform, points, policies, preparation, prestige, probability, process, product, properties, proportion, prove, random, readily, refer, reference, registration, relationship, relationships, relative, resulting, scheme, scope, secondary, selected, shu, single, solved, sovereignty, sphere, spite, stages, studies, submarine, submarines, substances, successes, suited, symbol, tangent, technology, theoretical, thickness, transformation, transformed, transition, treated, trends, underground, units, used, varied, warfare, zg\n",
      "alone, announced, cook, empty, gorton, paris, person, reached, relations, run, stranger, telephone\n",
      "funds, headquarters, increase\n",
      "always, command, discovered, getting, interesting, practical, real, thing, truth\n",
      "academic, admission, amateur, answers, bases, bigger, brooklyn, cards, carleton, clerk, coach, concert, crew, cycle, dartmouth, decent, doc, engagement, favorite, findings, football, fortunately, game, gang, golf, graduate, healthy, historians, imitation, insist, managers, musicians, numerous, orchestra, participate, performances, piano, players, raising, remark, respective, shelters, shift, supervision, suspect, tales, team, theories, troubles, weekly, witnesses\n",
      "2000, achieved, armed, atlanta, attend, british, churches, classes, completed, congo, delayed, description, exist, favor, goals, lawyers, maintain, medium, membership, officers, produced, reception, schools, sons, studied, supported, task, thursday\n",
      "aid, division, economic, financial, medical, national, planning, policy, research, responsibility, services\n",
      "1949, 1952, 1955, adult, alliance, angle, anniversary, appeals, axis, beliefs, binding, categories, characterized, chlorine, classification, cm, commander, comment, component, consequence, consisting, controlled, controlling, dealer, decline, depending, elementary, engineers, exhibition, finding, fractions, gradually, gyro, handled, honored, identification, indirect, intervention, kansas, lists, loop, losses, melting, merchant, minority, nonspecific, observations, optical, passages, petitioner, posts, profits, radar, rank, regions, resolution, ruling, samples, scattered, shipping, simultaneously, solutions, staining, strictly, succession, thyroid, tissue, tubes, voluntary, voted\n",
      "absence, address, appeared, atomic, attack, belongs, blood, born, christ, concluded, conscious, contact, desire, detailed, doctrine, eisenhower, eve, event, exposure, grace, heart, identified, jesus, label, reality, remarkable, samuel, savage, speak, style, trust, whose\n",
      "air, already, apartment, around, behind, body, brought, building, car, carried, center, close, coming, covered, dark, directly, door, fire, floor, front, glass, hall, hand, heavy, held, hotel, house, inside, kept, left, legs, light, moving, nearest, next, office, outside, paper, placed, police, rear, returned, room, rooms, set, showed, sitting, soft, split, starting, station, steps, table, teeth, together, toward, waiting, walked, wall, walls, watching, weight, white\n",
      "dare\n",
      "budget, campus, category, defense, india, introduced, introduction, listeners, newly, procurement, rejected, selling, theme\n",
      "biggest, despite, foreign, peaceful, winning\n",
      "advisory, africa, airport, alabama, allies, appeal, avenue, bank, boating, california, canada, carolina, cast, central, chicago, china, citys, civic, club, clubs, co, coast, committees, congressional, connected, county, cross, dallas, degrees, delaware, democrats, designs, directors, downtown, duties, elected, empire, expectations, expects, factory, farther, frontier, gallery, georgia, germany, goods, grand, greenwich, gulf, headed, heading, historic, hopes, illinois, indian, invitation, issued, lake, led, located, los, manchester, maryland, mayor, mexico, mississippi, mobile, moscow, mountains, native, nato, nearby, negroes, neighboring, new, northwest, offices, officials, ohio, overseas, pacific, park, parks, pennsylvania, philadelphia, poland, port, portland, prairie, registered, republican, returning, route, san, settlement, shopping, signed, south, stands, stores, strategy, streets, submitted, summers, tennessee, texas, threatened, tour, traveled, urged, valley, victory, virgin, virginia, visiting, voters, warwick, welcome, west, wisconsin, womens, york\n",
      "advanced, artistic, automatic, bay, colonial, companys, continuously, contrast, craft, demonstration, distances, electronics, encouraging, era, exception, expansion, factories, flexible, frame, giants, grades, hostile, insisted, interpretation, longterm, mantle, mechanics, modest, nov, occasion, occupation, proof, protest, roads, sampling, separated, series, shooting, socalled, span, spectacular, struggling, trucks, vigorous\n",
      "allied, angeles, combination, drawing, giant, mitchell, overcome, planes, released, sessions\n",
      "balanced, bronchial, confirmed, drop, effectiveness, emotions, faced, impossible, increases, justified, largest, leaped, liquor, list, parade, patchen, resolved, respects, saved, sections, stained, suffering, tendency, theresa, tournament, trend, urethane, violence\n",
      "baker, britain, century, circles, confused, dull, eighteenth, eighth, eleven, germans, late, nineteenth, ninth, prisoners, reminded, silent, surrounded, twentieth\n",
      "hanging, promises, transfer\n",
      "authorities, base, decisions, directed, expenditures, housing, kennedy, laos, legislative, lincoln, minimum, moves, partner, promotion, provisions, recommendations, review, speed, trustees\n",
      "church, died, faculty, johnnie, share, sharp, st, stayed\n",
      "absolutely, broke, elaine, feeding, gathering, hudson, lobby, louis, magazine, pat, pointing, suddenly, sympathy, temple, voices, weapons\n",
      "education, educational, formal, measures\n",
      "acceptance, accepting, access, accordance, accurate, afford, agent, alike, amazing, ancient, angels, another, antisemitism, appreciation, architect, associations, atom, attempted, attempts, background, banks, bc, beauty, begun, beings, belong, bound, called, casual, catholics, certainty, challenge, chamber, changing, chiefly, childhood, chinese, citizen, clarity, climate, colleagues, collective, colored, commonly, communism, complicated, composer, conceived, conception, concrete, condition, confidence, confronted, congregation, consists, constantly, convictions, cope, core, creating, creative, dance, dancer, dances, dates, deeper, defeat, demands, deny, depth, describes, destiny, detective, device, dignity, dilemma, discipline, discovery, discrimination, discussions, display, displayed, distinction, distinctive, divine, drawn, drill, ecumenical, edition, encountered, endless, ends, enforced, enterprise, enthusiasm, entirely, equally, error, everywhere, evil, examples, excellent, excitement, exclusively, experienced, experiments, extraordinary, extreme, facing, failed, fairly, fallen, fashion, fellowship, fill, films, forced, founded, friendship, generation, gift, governing, grow, grown, grows, guide, happening, hardy, hearts, hero, holds, holmes, homes, hotels, humanity, husbands, illusion, illustrated, images, impression, impressions, inadequate, inner, innocence, insistence, inspired, intimate, jersey, katanga, landscape, legend, liberty, lies, lighting, losing, loyalty, makers, many, massive, meanwhile, merchants, minds, monument, motive, musician, mutual, neighborhood, notion, nowhere, observation, occurring, operational, orthodox, pages, paintings, parallel, partisan, partly, passion, people, permitted, personality, perspective, pictures, plot, pointed, possessed, presentation, preserve, preserved, pressing, prime, produces, prokofieff, protected, protestant, publicly, races, racial, rare, reaches, reader, realism, realization, realtors, reflect, reflection, reflects, release, remote, renaissance, repeated, replacement, republic, residents, responses, reveals, sake, satisfaction, save, scenes, scholars, score, sees, sensitive, sentiment, setting, settled, sixties, slavery, slaves, slow, sophisticated, soul, species, speech, stake, steele, stories, studying, substance, successfully, surely, survival, survive, sympathetic, testament, theology, thousands, totally, tragic, transferred, turns, ultimately, unconscious, underlying, undoubtedly, unknown, unlike, urgent, utopian, utterly, vague, valuable, vast, venture, verse, version, views, virtue, visual, vivid, wholly, widespread, witness, wives, world, worlds, worthy, zen\n",
      "approach, camera, color, continuing, covering, cut, design, direction, effect, features, figures, higher, improvement, intended, issue, large, lower, market, ordered, original, others, pattern, percentage, position, previous, ranging, regular, shape, simply, smaller, somewhat, status, stock, substantial, turn, using, variety\n",
      "firm, fresh\n",
      "af, aj, anode, arc, calculated, cell, compared, contains, costs, density, difference, distribution, energy, flow, flux, function, gas, height, high, holder, increased, intensity, level, levels, liquid, low, mass, material, maximum, measured, measurements, measuring, moon, obtained, operating, oxygen, particles, pressure, radiation, range, rate, rates, ratio, reaction, rise, scale, sets, shear, solid, surface, temperature, temperatures, thermal, unit, velocity, volume, wage\n",
      "affair, affects, aim, anticipated, awareness, bearing, boards, causes, clothing, concern, conferences, convention, crises, customer, destruction, devil, experiment, extensive, feelings, feels, foundation, habits, handling, instruments, judgment, judgments, laid, leads, meanings, muscles, paying, possibilities, pressures, relatives, sequence, signals, similarly, soldier, striking, substantially, summary, tactics, taste, thoughts, truly, unexpected, unfortunate, waves\n",
      "agree, anywhere, appreciate, bangjensen, bobby, bother, buy, cancer, cathy, companion, correspondence, crash, curiosity, delight, delightful, demanding, desperately, discover, dive, draw, educated, escape, exactly, finish, fogg, folks, funny, gods, grateful, grave, habit, harder, honey, imagined, innocent, invariably, jew, johnson, joke, kay, keeps, killer, letting, license, lieutenant, lift, lose, marriages, mood, mostly, motives, myra, names, noble, paint, panic, personally, polish, pride, promising, publicity, quarrel, realistic, rector, remarked, reputation, rob, romantic, roy, sacrifice, sell, servants, shouldnt, sighed, sitter, socialism, songs, stanley, startled, strongly, stuff, stupid, suggest, surprised, susan, teach, tim, tough, unhappy, violent, ward, waste, well, werent, whatever, wilson, would\n",
      "accident, accompanied, acts, advantages, advice, appointment, authentic, brain, capitol, careful, chandler, charges, collection, controversy, copy, crossing, currently, dancers, difficulty, directions, ease, engineer, expert, exploration, florida, focus, fortune, freight, friday, gen, harvard, helpful, instantly, instructions, intervals, laboratory, michelangelo, mighty, naval, navy, notes, operated, patients, periods, permission, persuaded, pertinent, pursue, questionnaire, recall, remainder, remarks, republicans, request, residence, session, sheriff, suffered, taylor, tools, tooth, visitors, volumes, whereas, yankees\n",
      "adopted, aids, america, americas, assessment, assessors, atlantic, ballet, boats, charter, colleges, districts, eastern, editors, employees, estate, examine, extending, falls, formed, friendly, governor, grant, heritage, hospital, includes, independence, indians, investment, island, islands, japanese, junior, louisiana, manufacturers, massachusetts, newspapers, northern, observe, opposed, owners, practices, presently, presents, providence, recalled, recognized, reform, represent, representatives, rhode, roosevelt, southern, sponsor, suburban, tend, term, towns, universities, vermont, wednesday, western\n",
      "assist, courses, industry, loans, price, vary\n",
      "believes, calls, clear, drinking, frequent, knowing, obvious, odd, opinions, phone, precisely, remembered, search, slight, strain, tea, theory, vision\n",
      "ann, attended, contributions, gather, inclined, journal, lover, nervous, obanion, offering, orleans, paula, socialist, strategic, telegraph, theatre, thinks, unlikely, volunteers, whereby, wishes, woodruff\n",
      "announcement, chosen, city, council, london, permanent\n",
      "28, conservative, water\n",
      "across, along, beyond, block, bottom, bridge, cars, completely, corner, cover, distance, drive, east, edge, far, gardens, hill, land, lay, length, line, lines, main, maturity, middle, move, narrow, near, north, parked, passing, piece, pieces, plane, point, reach, river, road, shadow, short, side, somewhere, square, stage, street, top, town, traffic, upper, via, walking, wide, yards\n",
      "boat, bridget, date, daughter, dear, everyone, fathers, golden, largely, looking, palfrey, staring, trembling\n",
      "active, aircraft, asia, august, began, berlin, career, catholic, characters, cities, continued, country, crisis, december, early, end, england, europe, fall, fewer, following, france, manager, meetings, metropolitan, museum, period, planned, proved, rapid, rapidly, region, relatively, roman, russia, season, second, spring, start, starts, strike, summer, sunday, trip, vacation, visit, war, week\n",
      "abroad, aesthetic, art, artists, assigned, attempt, attitude, attitudes, belief, bible, capable, character, characteristic, christian, christianity, civilization, classical, clearly, concepts, conflict, conscience, constitution, contemporary, contribution, conviction, created, creation, criticism, culture, curious, dealing, democracy, details, dominant, dominated, emotion, enjoy, exercise, express, expressing, expression, faith, female, fiction, film, finds, follow, form, forms, frequently, functional, genuine, greek, historical, history, identity, ignored, indicates, insight, instance, intellectual, invention, issues, jazz, jewish, language, languages, latin, lesson, letters, liberal, liberals, life, literary, literature, majority, master, meaning, modern, movement, music, musical, mystery, myth, natural, necessarily, necessity, nevertheless, opposition, origin, overwhelming, participation, patterns, peoples, perhaps, philosophy, phrase, physics, plays, poems, poetic, poetry, politics, powerful, principles, profound, properly, pure, questions, rarely, rather, regarded, revealed, revolution, role, russian, sacred, salvation, science, sciences, scientists, seeking, serves, sexual, societies, spiritual, spoken, stress, structures, struggle, takes, technique, tends, theological, tradition, traditional, ultimate, understood, unity, universe, utopia, word, words, works, worship, writers, writes, writing, written, yet, youth\n",
      "800, accordingly, affect, altered, amendment, antitrust, assignment, assume, automobile, automobiles, balance, benefits, bureau, champion, constant, contributed, devoted, disaster, discuss, dispute, elsewhere, exceptions, exclusive, exhibit, expanding, extremely, facts, fail, forests, foundations, guidance, highest, host, industries, injury, intention, inventory, joint, judges, jurisdiction, latest, launched, laws, legal, legislature, libraries, logical, machines, mankind, manufacturing, merger, neither, operate, plants, preliminary, presidents, prevent, pupil, reasonably, referred, regarding, regiment, regulations, relating, remaining, rights, settle, slave, solve, sovereign, specialists, strongest, suggestions, supplied, transportation, unions, urge, weapon\n",
      "17, 19, 1958, 1959, 1960, 1961, 1962, 21, 22, 30, annual, approximately, april, bill, billion, bills, calendar, capital, dollar, dollars, due, earnings, ending, estimated, excess, extra, file, filing, fiscal, gross, income, january, july, june, million, month, months, november, oct, paid, pay, payment, percent, retail, return, returns, revenues, sales, september, shares, spending, sum, tax, total, wages, year\n",
      "actual, among, aspect, associated, atmosphere, attending, avoid, becoming, birth, carry, case, choice, circumstances, common, considerably, create, critical, described, earlier, elements, experience, expressed, generally, gives, group, helping, however, identify, including, intense, keeping, meeting, mission, negro, normal, part, parties, parts, performance, places, presumably, prices, primary, professional, purpose, reading, reasons, recent, recorded, relevant, responsible, sense, shown, significant, similar, situation, statement, strong, successful, suggests\n",
      "ability, accepted, arise, assert, bitter, caution, complex, conclusion, continually, crucial, definition, emotional, ethical, familiar, great, greatest, hence, historian, idea, mans, merit, occurs, often, planet, pleasure, primitive, readers, recognize, represents, shared, sin, sing, subtle, tragedy\n",
      "assembly, briefly, procedures, sensitivity\n",
      "argue, debate, dreams, figured, glance, heating, keys, minimal, nick, occur, painful, questioned, railroad, respond, telling, trace, tremendous\n",
      "minute, waters, weeks\n",
      "achieve, agents, agreed, ambassador, arrangements, assistant, become, campaign, caused, communist, concerning, conduct, confusion, congress, consideration, contracts, danger, decide, declared, delivered, domestic, election, entitled, eventually, expanded, favorable, fears, finance, firmly, fully, furthermore, helps, institution, intentions, involving, khrushchev, legislation, made, maintenance, missiles, nationalism, negotiations, news, opinion, premier, proposal, recently, recommend, reflected, regime, representative, rules, russians, scheduled, served, sought, soviet, sufficiently, supreme, survey, threat, vienna\n",
      "abel, alec, alex, alfred, andy, approached, arm, aside, asleep, back, backed, bag, ball, barn, barton, bath, bdikkat, beach, beat, bed, bedroom, bench, beside, bottle, box, brannon, breakfast, breaking, breath, brother, bullet, burst, bus, cafe, came, casey, cellar, chair, charlie, cigarette, clayton, clean, closing, coat, coffee, cool, cottage, crack, crawled, crazy, cried, crowd, cup, dave, deegan, demanded, dining, dinner, doctor, dogs, dolores, drank, dressed, dressing, drew, drink, driver, drivers, drove, eddie, ekstrohm, emerged, enemy, excited, fast, fat, felix, fighting, finished, fired, fled, flesh, flying, foot, frightened, garage, garden, glanced, grass, greg, guard, guest, gun, halfway, harold, hat, hesitated, hoag, hole, horse, horses, hot, howard, hungry, hurried, instant, jones, joyce, julia, jumped, kate, key, killed, kitchen, knee, knees, knife, knocked, laura, leaving, leg, lighted, lights, listening, lock, locked, lucky, lying, mad, mama, marine, matsuo, meal, mickey, midnight, mike, moments, night, nodded, noon, noticed, okay, owen, pa, pair, palace, papa, parking, paused, peered, penny, pete, picked, pike, pipe, pitcher, pocket, podger, pot, pulling, put, putting, quickly, quiet, quietly, rachel, ramey, refrigerator, reporter, ride, riding, roberts, rock, roll, round, rush, rushed, russ, saddle, sarah, scared, scotty, shaking, shayne, sheet, shocked, shook, shop, shorts, shot, shouted, sight, silence, sit, skirt, sleeping, smile, smiled, smiling, smoke, snow, softly, sounded, spot, stairs, started, stick, store, stronger, struck, stumbled, sudden, suitcase, supper, surprise, swimming, swing, tent, thrown, tilghman, till, tired, tractor, train, truck, upstairs, wagon, wally, watch, went, wheel, winston, womans, wondering, yard, yeah\n",
      "300, amounts, brief, carefully, critics, decades, dictionary, kinds, minor, movements, passed, represented, saline, since, symbols, travel, varying\n",
      "suggestion\n",
      "ahead, arms, backward, bare, beard, beneath, bent, black, bright, brushed, burned, caught, chest, chin, circle, climbed, closed, counter, desk, dirt, dry, dust, eye, eyes, face, faces, falling, fell, fence, fingers, forth, forward, gate, grabbed, gray, green, ground, hair, hands, head, heavily, holding, leaned, lifted, lips, looked, moved, mud, neck, nose, onto, open, opened, pale, porch, pressed, pulled, push, pushed, rain, ran, reaching, red, rifle, rode, rolled, rose, running, safe, sat, saw, sea, seat, seated, shade, shoulder, shoulders, shut, skin, sky, slightly, slipped, slowly, snake, spread, standing, stared, stiff, stood, stopped, straight, stretched, sun, swung, tall, thick, thin, threw, tongue, towards, trees, turned, turning, waited, watched, wet, window, yellow\n",
      "additional, adjustment, advance, approved, attain, corporations, desegregation, estimate, exceed, gain, improve, initial, learning, mills, plan, preceding, prevention, record, reducing, reduction, required, savings, serve, standards, thoroughly, uniform, useful\n",
      "barely, basement, blocks, buildings, ceiling, constructed, crossed, crowded, curt, definite, dim, doors, edges, entered, entrance, hang, hen, houses, huge, iron, mounted, object, objects, opposite, pull, roof, shadows, sidewalk, slept, stepped, stone, switch, tables, visible, windows, wooden, woods\n",
      "bar, card, definitely, double, fifth, filed, grain, locking, multiple, murderer, notable, operator, path, pilot, plastics, probabilities, procedure, recording, removal, row, screen, shots, sixth, slope, statistics, stretch, subsequent, territory, tip, vein\n",
      "31, age, alert, availability, completion, controls, cuba, displacement, ideal, impact, march, marks, mature, onset, outstanding, quarter, sex, sharply, situated, sixteen, skilled, specifically\n",
      "blue, calm, deep, feet, filled, followed, hung, rough, sand, soldiers, springs, suits, throat, warm, winds\n",
      "account, analysis, attorney, cases, communications, content, context, court, courts, data, decision, difficulties, failure, follows, given, information, items, matter, particular, quantity, respect, results, section, shall, sources, special, study, title, tone, trial, view\n",
      "1946, 29, argued, assembled, baseball, branches, carries, committed, communists, competent, complained, consistently, courage, crime, cuban, desires, diet, eager, enable, fate, feb, fought, governors, guilty, hatred, highway, humor, impulse, intelligent, irish, jackson, joined, loose, lungs, manhattan, markets, mens, motion, owned, prefer, profession, promised, publications, quick, relief, reserve, ruled, scarcely, senate, sept, sharing, sherman, swift, taught, temporarily, treaty, tribute, troops, wagner, wake, wear, willing, win\n",
      "action, actions, adequate, although, apparent, appears, application, areas, based, basic, capacity, cause, certain, change, claim, concept, concerned, conditions, connection, consider, considerable, considering, contribute, countries, current, degree, demand, depends, determine, develop, developed, developing, differences, different, direct, discussed, effort, essential, evidence, example, existence, extent, fact, factors, field, food, force, forces, free, freedom, fundamental, future, goal, greater, growing, human, ideas, immediate, importance, indeed, independent, individual, interest, interests, involved, knowledge, lack, major, makes, making, matters, means, measure, method, military, moral, nation, necessary, need, needed, needs, objective, objectives, ordinary, particularly, possible, practice, present, primarily, principle, problem, problems, progress, property, provides, quality, question, related, religion, require, requirements, resources, result, rule, scientific, security, simple, skill, skills, specific, strength, subject, sufficient, supply, talent, teaching, technical, terms, tests, thus, training, type, understanding, unique, upon, vital, vocational, ways, whole\n",
      "edward, engaged, october, paul, removed, serious, sold, theyd, unless\n",
      "able, accept, actually, added, allowed, almost, approval, assumed, attention, begin, besides, best, break, bring, cannot, certainly, charge, check, children, choose, class, comes, continue, course, credit, decided, denied, determined, difficult, doubt, either, encourage, enter, every, expect, expected, expenses, family, final, finally, fit, found, friends, full, fulltime, give, granted, help, included, informed, instead, insurance, job, join, kind, latter, lead, learn, least, less, likely, lives, living, longer, make, meet, message, might, money, must, naturally, obviously, occurred, otherwise, parents, pass, pool, probably, propaganda, proper, protection, quite, race, raise, raised, read, reason, reasonable, receive, regard, rising, risk, seem, seems, show, showing, sound, space, stated, statements, step, students, suggested, taking, teachers, temporary, test, though, today, true, unable, vote, whether, without, work, workers, working\n",
      "adam, alive, anger, angry, anne, answered, arent, artist, aware, bear, blanche, blind, bobbie, cady, call, captain, changed, comfort, contrary, conversation, convinced, count, cousin, cry, deal, death, deeply, describe, die, disturbed, done, dream, duty, dying, eat, eating, eileen, even, except, explained, father, fear, feeling, felt, fine, forever, forgotten, friend, george, gets, god, goes, good, hated, hearst, heaven, helped, holy, honest, husband, incident, joe, killing, knows, learned, letter, lewis, liked, little, live, lost, love, loved, loves, lucy, man, marriage, married, mary, memory, mercer, mess, met, mind, mine, miss, missed, moment, morgan, mother, murder, name, none, ought, pain, perfect, picture, playing, poor, practically, promise, realized, refused, replied, reply, rich, sad, scene, seemed, seen, sending, seriously, somehow, sometimes, son, story, strange, talked, thank, thanks, thompson, troubled, uncle, understand, us, weve, whenever, wife, wise, wished, wonder, wondered, worried, writer, wrote, young\n",
      "agency, consequences, considerations, establishing, existed, masters, measurement, network, persons, psychological, publication, recovery, response, responsibilities\n",
      "acquired, appointed, assured, award, bid, browns, candidate, chairman, comments, congressman, davis, dean, detroit, du, essay, flat, ford, gov, handed, hearing, henry, hughes, invited, jefferson, john, johns, jr, lawrence, madison, marshall, monthly, mothers, motors, nixon, owner, panel, pause, poem, pont, prominent, prospective, quiney, quoted, recommendation, representing, robert, sen, slim, smith, stockholders, theater, veteran, vice, widow, william\n",
      "heat\n",
      "adjusted, alaska, allotment, amount, authorized, claimed, claims, commodities, corporation, correct, expense, farmers, fees, fund, grants, lands, loan, matching, payments, proposals, provision, purchase, pursuant, refund, reorganization, revenue, sale, sec, specified, states, surplus, taxes, taxpayers, trading, treasury, united\n",
      "band, cloth, cooperative, entering, establish, feature, grains, justify, kennedys, missouri, replace, severe, todays, traders, wars\n",
      "accomplished, accuracy, accurately, alienation, also, ambiguous, anxiety, argument, aroused, arrangement, artery, articles, authors, basically, becomes, bond, burden, characteristics, classic, clinical, code, collected, compare, comparison, competitive, consciousness, contain, containing, cuts, dealt, demonstrate, depend, derived, desirable, detergent, disease, distinct, distributed, effectively, electricity, enjoyed, entertainment, entry, equation, etc, evident, exact, exceptional, excessive, exists, expensive, experts, fabrics, false, folklore, ft, furnish, gained, household, ideological, involve, lacking, magazines, magic, marginal, may, mechanism, mere, mixture, mode, movies, narrative, negative, normally, novel, obligations, obtain, oil, output, patent, pathology, perception, perfectly, phase, phenomenon, pleasant, plus, positive, possibly, precise, precision, previously, probable, produce, pulmonary, purely, qualities, reactions, remove, resist, resistance, retained, scholarship, shapes, sheets, situations, solely, stresses, substrate, suffer, surprising, symbolic, tape, tension, tested, text, thorough, tool, typical, unusual, uses, variable, variables, variation, verbal, widely\n",
      "giving, league, personal, popular, structure, throughout, types, usually\n",
      "10, 100, 1000, 11, 12, 14, 15, 16, 18, 20, 200, 24, 25, 26, 40, 400, 45, 50, 500, 60, 70, 80, average, beef, cent, cents, daily, diameter, drugs, feed, inch, inches, lb, mg, mile, miles, milligrams, nearly, net, per, pound, pounds, sheep, tons\n",
      "actor, bet, boss, combat, driving, incredible, initiative, investigation, leader, martin, maude, melody, pack, rome, sam, shock, slid, triumph\n",
      "according, act, activities, administration, administrative, affairs, agencies, agricultural, agriculture, american, army, article, assistance, association, authority, board, business, chief, citizens, civil, civilian, college, commerce, commission, committee, communities, community, companies, company, competition, conducted, conference, contract, cooperation, corps, democratic, department, departments, development, director, district, efforts, entire, exchange, executive, firms, former, general, government, governments, industrial, interested, interior, internal, international, justice, labor, leaders, library, local, management, member, members, nations, officer, official, operations, organizations, organized, party, peace, personnel, plans, president, press, private, program, programs, projects, promote, proposed, public, published, regional, report, reported, reports, school, secretary, service, sponsored, staff, state, student, support, trade, un, union, university, washington, welfare\n",
      "adams, admitted, albert, alexander, allen, anxious, arthur, aug, aunt, belly, blonde, bold, borden, bride, brown, buck, carl, cats, charles, checked, clark, colonel, coolidge, dan, david, de, detectives, distinguished, divorce, donald, dr, dress, eugene, fellow, forgive, francis, frank, freddy, funeral, gathered, genius, greeted, handsome, harris, harry, hasnt, heads, henrietta, hills, hired, honor, houston, jack, james, jane, jean, jim, johnston, joseph, judge, keith, king, lady, lane, lawyer, lee, lightly, luncheon, maid, maris, medicine, mention, miami, miller, minister, miriam, moore, morris, morse, mr, mrs, named, old, parker, peter, pleased, poet, pope, professor, proud, purchased, puts, rayburn, reporters, rev, richard, robinson, salem, sandburg, self, senator, sentence, sergeant, servant, sharpe, shirt, shortly, sister, skyros, smart, speaker, spoke, suit, thomas, van, village, walter, warren, watson, wearing, williams, wore, worn, wright, younger\n",
      "consumer, dropped\n",
      "delay, hate, hoped, ive, jess, maggie\n",
      "altogether, health, leadership, norms, rational, speaking, substitute, wonderful\n",
      "child, composition, editorial, inevitable, institute, item, manner, number, outcome, philosophical, pm, portion, project, requires, systems, teacher, television, value\n",
      "changes, communication, drama, especially, events, important, law, nature, organization, outlook, physical, religious, social, sort, therefore\n",
      "1956, aboard, absent, accused, ad, adding, addressed, admit, adults, african, ah, aimed, al, ambition, amen, appearance, approaching, aristotle, arlene, arnold, arrest, arrival, astronomy, attached, attacks, attempting, attracted, attractive, autumn, awake, badly, barrel, bars, beam, beer, belt, ben, bend, billy, birds, blanket, blow, blowing, blues, bob, bodies, bomb, bombers, bombs, bone, bones, boots, bore, bought, bowl, brains, branch, brave, bread, breathing, brilliant, broadway, brush, bullets, burning, burns, butter, cabin, calif, calling, camps, canvas, cap, carrying, cash, castro, cat, cattle, cavalry, chairs, chances, charm, charming, cheap, chicken, christmas, christs, circular, clay, cleaning, cleared, clock, cloud, clouds, cocktail, colony, colors, comfortable, complement, compromise, condemned, constitutional, contest, conversion, converted, cooking, corn, cotton, cow, cream, criminal, critic, cromwell, crop, crown, cure, damage, dancing, darkness, dated, dawn, deck, declaration, defend, deliberately, delicate, delivery, depression, depths, desert, despair, desperate, di, dirty, disappeared, dishes, disk, displays, distant, dog, doubtful, douglas, dreamed, dried, drug, ear, earliest, ears, eggs, el, emperor, encounter, enemies, engine, engines, enjoyment, enthusiastic, envelope, et, evidently, examined, exciting, excuse, explains, faint, fans, farmer, fascinating, fatal, faulkner, fault, fed, festival, fever, filling, finger, firing, fish, fist, fitted, flash, flew, flight, flower, flowers, fluid, fly, fog, foil, fortunate, franklin, freely, frozen, fruit, fun, furnished, furniture, fury, gay, gear, generous, gentle, gentleman, gentlemen, gently, gesture, glasses, glued, gold, grew, grip, guards, guided, guilt, guns, hal, ham, handle, hanover, happily, happiness, harbor, hay, heels, heights, helion, helpless, helva, herd, hidden, hide, holes, hollywood, hoping, horizon, horn, hospitals, ice, immortality, infinite, injured, insects, inspection, installed, italian, jacket, jet, johnny, journey, jump, jungle, killpath, kingdom, kings, la, ladder, ladies, landing, laughing, laughter, lean, leather, leaves, letch, lid, lie, likes, literally, lively, livestock, loaded, lodge, lonely, lots, loud, lovely, lowered, luck, lunch, luxury, magnificent, male, managed, manufacturer, marble, mars, marshal, mason, match, mate, meals, meat, mercy, michigan, midst, milk, mines, mirror, missing, mistake, mixed, mold, motel, mount, mountain, movie, mustard, mysterious, naked, neat, neatly, nerves, nest, neutral, newer, noise, notte, nude, nuts, observers, occasional, occasionally, occupied, ocean, oedipus, one, openly, opera, oral, orange, outdoor, outer, pace, packed, painted, painter, palm, pamela, panels, partially, passengers, patience, peas, philip, physically, pile, pink, pioneer, pip, pistol, pitch, place, placing, plain, planetary, planets, plaster, plastic, plate, plates, plato, plug, poets, pools, possession, poured, poverty, powder, prayer, precious, preferred, preparing, prince, prize, proceeded, productive, promptly, prospect, protein, puerto, quarters, queen, questioning, racing, ralph, ranch, rang, ranks, raw, ray, reactionary, register, regularly, relieved, rent, repair, respectable, resting, resumed, retirement, reveal, reverend, revolutionary, rhythm, rice, rico, rid, ridiculous, rifles, rigid, ring, rises, ritual, rocks, root, rousseau, ruth, salt, sang, santa, sauce, screw, searching, secrets, secure, seed, seeds, seized, seventh, shakespeare, shame, shell, shining, ships, shoot, shore, shorter, shouting, signal, signs, silver, singing, sink, sixty, sketches, slender, slide, small, smell, smelled, smooth, snakes, soap, sober, soil, song, souls, sounds, southerners, spanish, spare, speeches, spell, spencer, spirits, splendid, sports, spots, stadium, star, steadily, steady, stern, sticks, still, stomach, storm, strikes, strip, stroke, stuck, studio, subjected, succeeded, sugar, suite, surrender, surrounding, suspended, suspicion, sweat, sweet, swept, symphony, tail, tale, targets, tears, tells, tended, tensions, terrible, terror, therapist, thereafter, threatening, thrust, tie, tied, tight, timber, time, tiny, tire, tobacco, toes, tones, torn, tossed, track, trail, trap, traveling, tree, trim, trips, twisted, ugly, uncertain, uneasy, unfortunately, upward, vernon, victims, victor, viewed, vs, warmth, warned, warning, wash, weak, weather, wedding, westminster, wheels, wherever, whip, whisky, whispered, whites, wild, wildlife, wildly, wind, wine, wines, wings, wire, wit, wood, workshop, worst, wound, wounded\n",
      "border, half, patient, winter\n",
      "1953, 1954, accounts, achievement, add, addition, advantage, agreement, apparently, appear, appropriate, battle, became, believed, build, comparable, complete, conclusions, considered, contained, continues, coverage, decade, dependent, detail, determination, dramatic, effective, elections, emergency, emphasis, emphasize, engineering, equal, errors, established, establishment, estimates, experiences, factor, financing, foods, formation, fourth, gave, greatly, grounds, highly, impressive, include, increasing, indicate, indicated, instruction, jews, jobs, known, loss, mentioned, noted, numbers, offer, offered, offers, opportunities, opportunity, orders, permit, positions, possibility, powers, prepared, presence, presented, principal, received, receiving, recognition, records, remain, remains, safety, satisfactory, secret, seek, seldom, selection, separate, shows, significance, solution, subjects, success, supplement, tasks, third, trained, treatment, wave, weakness\n",
      "bird, chart, drinks, eliminated, hurt, touched, yelled\n",
      "activity, assure, behavior, childs, control, cultural, discussion, european, governmental, groups, growth, individuals, influence, institutions, larger, limited, merely, moreover, political, population, power, provided, relation, society, source, system, values, various, within\n",
      "federal\n",
      "1948, 1951, 5000, abandoned, acquire, addresses, approaches, arranged, associate, atoms, auto, baltimore, belgians, bridges, carbon, chain, channels, chapel, circuit, consequently, constitute, copernicus, counties, curves, daytime, dc, dedication, destroyed, discharge, employee, employers, extend, extended, fats, fields, foam, foams, forest, fraction, frequency, harmony, hypothalamic, implications, inc, instances, interference, jail, juniors, lengths, limit, listed, lumber, mail, maintained, mathematical, meaningful, metal, middleclass, missile, orderly, originally, passage, perform, performed, permits, pupils, qualified, regardless, rehabilitation, rendered, replaced, reserved, restrictions, resulted, routine, sailing, select, senior, serving, sewage, skywave, specimen, stream, styles, switches, talents, tangible, tetrachloride, traditions, tube, vacuum, valid, vertex, victim, youngsters, zero\n",
      "experimental, figs, prospects, size\n",
      "afraid, aint, answer, anybody, anyhow, anyone, anything, anyway, ask, asked, asking, away, baby, bad, beautiful, better, big, bit, blame, boy, busy, cant, care, catch, chance, closer, clothes, cold, come, could, couldnt, damn, dead, didnt, doesnt, dont, drunk, easy, else, em, enough, ever, everybody, everything, explain, fair, feel, fight, find, fool, forget, get, girl, glad, go, going, gone, got, grinned, guess, guy, guys, hadnt, hans, happen, happened, happy, hard, harm, havent, hear, heard, hed, hell, hes, hit, hold, hurry, id, ill, im, imagine, isnt, keep, kid, kids, kill, knew, know, laugh, laughed, leave, let, lets, like, linda, listen, look, looks, lot, maybe, mean, meant, much, never, nice, nobody, nothing, oh, phil, pick, play, please, plenty, pretty, ready, really, remember, rest, right, said, say, saying, says, see, seeing, send, shed, shes, sick, sleep, somebody, someone, something, soon, sorry, stand, stay, suppose, supposed, sure, take, talk, talking, tell, thats, theres, theyll, theyre, things, think, thinking, thought, throw, told, tom, touch, tried, trouble, try, trying, voice, wait, walk, want, wanted, wants, wasnt, way, whats, wish, woman, wont, worry, worse, wouldnt, write, wrong, yes, youd, youll, youre, youve\n",
      "beginning, bringing, built, fort, french, german, prior, taken, women\n",
      "advised, afternoon, ago, americans, apart, arrive, arrived, audience, bears, boston, boys, broken, brothers, camp, candidates, cape, centuries, chose, columns, comedy, concerts, couple, day, days, divided, doctors, dozen, editor, eight, ended, evening, families, famous, fifteen, fifty, first, five, forty, four, fourteen, francisco, fred, games, generations, girls, guests, hits, home, hour, hours, hundred, hundreds, interview, italy, japan, jury, last, later, leading, lived, long, mark, men, millions, minutes, monday, morning, neighbors, newport, newspaper, nights, nine, note, novels, oclock, older, opening, page, painting, palmer, past, patrol, pittsburgh, played, player, presidential, printed, prison, remained, repeat, roughly, runs, saturday, schedule, seasons, seconds, sent, seven, seventeen, several, sign, six, spend, target, teams, ten, thirty, thousand, three, times, tomorrow, tonight, took, tuesday, tv, twelve, twenty, twice, two, usual, visited, washed, washing, weekend, worked, worth, years, yesterday\n",
      "concerns, glory, joy, lap, mouth, restaurant, shoes, stars, steel, stop\n",
      "author, behalf, believe, book, books, diplomatic, english, eternal, happens, hardly, hope, ignore, lord, mexican, ones, realize, ship, sir, spirit, storage, superior, wed, worries\n",
      "10000, 13, 1950, 1957, 23, 27, 34, 35, 42, 600, 75, acres, ages, allowances, animal, animals, bonds, builder, builders, buying, chapter, childrens, composed, concentrated, consisted, convenient, customers, dealers, devices, driven, electric, emission, entries, equivalent, february, females, fiber, fibers, fishing, forming, frames, grade, indication, jan, mainly, males, marked, models, moderate, motor, muscle, oxidation, plantation, pond, producing, railroads, reduced, reliable, requirement, residential, respectively, responded, retired, roots, sample, satisfied, southeast, stem, stressed, treat, tsunami, twentyfive, variations, vehicle, worker, yield\n",
      "abstract, academy, acceptable, accomplish, affected, allowing, allows, alternative, anglosaxon, anticipation, applications, assumption, avoided, binomial, broader, charged, cited, coal, colorful, compete, conditioned, conspiracy, continuity, corporate, creatures, dangerous, dedicated, destructive, distinguish, draft, drawings, easier, easily, eg, elaborate, empirical, encouraged, enormous, equipped, explanation, exposed, folk, formerly, formulas, heroic, identical, illustration, impressed, individually, instrument, insure, interviews, investigations, involves, lacked, manage, mechanical, model, occasions, optimal, package, papers, passes, patents, peculiar, phenomena, polynomial, prevented, profit, punishment, radical, realm, receives, roles, royal, saving, stable, stems, stored, supporting, surfaces, testimony, textile, thereby, trials, vincent, votes, voting, warrant\n",
      "column, earth, figure, immediately, notice, spent, virtually, wisdom\n"
     ]
    }
   ],
   "source": [
    "for cluster_id in np.unique(idx):\n",
    "    #exemplar = top5000[kmeans.cluster_centers_indices_[cluster_id]]\n",
    "    cluster = np.unique(top5000words[np.asarray(np.nonzero(idx==cluster_id)).flatten()])\n",
    "    cluster_str = \", \".join(cluster)\n",
    "    print(cluster_str)\n",
    "    #print(\" - *%s:* %s\" % (exemplar, cluster_str))"
   ]
  },
  {
   "cell_type": "markdown",
   "metadata": {
    "collapsed": true
   },
   "source": [
    "###Nearest Neighbor Results"
   ]
  },
  {
   "cell_type": "code",
   "execution_count": 75,
   "metadata": {
    "collapsed": true
   },
   "outputs": [],
   "source": [
    "subW = ['communism', 'autumn', 'cigarette', 'pulmonary', 'mankind', 'africa', 'chicago', 'revolution', 'september',\n",
    "'chemical', 'detergent', 'dictionary', 'storm', 'worship','harvard','gun','war','mother','japanese','chinese','wisconsin'\n",
    "       ,'killer','cancer','bible','republican','democrats']"
   ]
  },
  {
   "cell_type": "code",
   "execution_count": 76,
   "metadata": {
    "collapsed": true
   },
   "outputs": [],
   "source": [
    "from sklearn.metrics.pairwise import cosine_similarity\n",
    "from scipy.spatial.distance import cosine\n",
    "from sklearn.metrics import euclidean_distances"
   ]
  },
  {
   "cell_type": "code",
   "execution_count": 77,
   "metadata": {
    "collapsed": false
   },
   "outputs": [],
   "source": [
    "d = {}\n",
    "closet = {}\n",
    "for word in subW:\n",
    "    d[word] = 10\n",
    "    closet[word] = 'ccc'\n",
    "    for w in top5000: \n",
    "        if w != word:\n",
    "            temp_d = cosine(X[top5000.index(word)], X[top5000.index(w)])\n",
    "            #print(temp_d)\n",
    "            if abs(temp_d) < d[word]:\n",
    "                d[word] = temp_d\n",
    "                closet[word] = w"
   ]
  },
  {
   "cell_type": "code",
   "execution_count": 78,
   "metadata": {
    "collapsed": false
   },
   "outputs": [
    {
     "data": {
      "text/plain": [
       "{'africa': 'asia',\n",
       " 'autumn': 'late',\n",
       " 'bible': 'experienced',\n",
       " 'cancer': 'harvard',\n",
       " 'chemical': 'drugs',\n",
       " 'chicago': 'portland',\n",
       " 'chinese': 'peoples',\n",
       " 'cigarette': 'lighted',\n",
       " 'communism': 'utopian',\n",
       " 'democrats': 'liberal',\n",
       " 'detergent': 'fabrics',\n",
       " 'dictionary': 'text',\n",
       " 'gun': 'back',\n",
       " 'harvard': 'professor',\n",
       " 'japanese': 'stress',\n",
       " 'killer': 'guys',\n",
       " 'mankind': 'nation',\n",
       " 'mother': 'son',\n",
       " 'pulmonary': 'artery',\n",
       " 'republican': 'party',\n",
       " 'revolution': 'developed',\n",
       " 'september': 'june',\n",
       " 'storm': 'noon',\n",
       " 'war': 'world',\n",
       " 'wisconsin': 'carolina',\n",
       " 'worship': 'religious'}"
      ]
     },
     "execution_count": 78,
     "metadata": {},
     "output_type": "execute_result"
    }
   ],
   "source": [
    "closet"
   ]
  },
  {
   "cell_type": "code",
   "execution_count": null,
   "metadata": {
    "collapsed": true
   },
   "outputs": [],
   "source": []
  }
 ],
 "metadata": {
  "kernelspec": {
   "display_name": "Python 3",
   "language": "python",
   "name": "python3"
  },
  "language_info": {
   "codemirror_mode": {
    "name": "ipython",
    "version": 3
   },
   "file_extension": ".py",
   "mimetype": "text/x-python",
   "name": "python",
   "nbconvert_exporter": "python",
   "pygments_lexer": "ipython3",
   "version": "3.4.3"
  }
 },
 "nbformat": 4,
 "nbformat_minor": 0
}
